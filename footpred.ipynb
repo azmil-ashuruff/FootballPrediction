{
 "cells": [
  {
   "cell_type": "code",
   "execution_count": null,
   "metadata": {},
   "outputs": [],
   "source": [
    "#Importing the necessary packages\n",
    "\n",
    "import numpy as np\n",
    "import pandas as pd\n",
    "import matplotlib.pyplot as plt\n",
    "\n",
    "players = pd.read_csv('/players_20.csv')"
   ]
  },
  {
   "cell_type": "code",
   "execution_count": null,
   "metadata": {},
   "outputs": [],
   "source": [
    "print(\" Dataset Length :: \", len(players))\n",
    "print(\" Dataset Shape :: \", players.shape)"
   ]
  },
  {
   "cell_type": "code",
   "execution_count": null,
   "metadata": {},
   "outputs": [],
   "source": [
    "for col in players.columns:\n",
    "    print(col)"
   ]
  },
  {
   "cell_type": "code",
   "execution_count": null,
   "metadata": {},
   "outputs": [],
   "source": [
    "players.info()"
   ]
  },
  {
   "cell_type": "code",
   "execution_count": null,
   "metadata": {},
   "outputs": [],
   "source": [
    "print(\" Dataset :: \", players.head())"
   ]
  },
  {
   "cell_type": "code",
   "execution_count": null,
   "metadata": {},
   "outputs": [],
   "source": [
    "# Removing Unwanted Columns\n",
    "\n",
    "useless_column = ['dob', 'sofifa_id', 'player_url', 'long_name', 'body_type', 'real_face', 'nation_position', 'loaned_from', 'nation_jersey_number', 'player_traits']\n",
    "players = players.drop(useless_column, axis = 1)"
   ]
  },
  {
   "cell_type": "code",
   "execution_count": null,
   "metadata": {},
   "outputs": [],
   "source": [
    "# To add a new column called main position\n",
    "\n",
    "players['main_position'] = players['player_positions'].str.split(pat = ',', n = -1, expand = True)[0]\n",
    "selected_columns = ['short_name', 'club', 'main_position', 'overall']\n",
    "print(players[selected_columns].head(5))"
   ]
  },
  {
   "cell_type": "code",
   "execution_count": null,
   "metadata": {},
   "outputs": [],
   "source": [
    "# condensing weight and height columns to BMI index\n",
    "\n",
    "players['bmi'] = players['weight_kg']/(players['height_cm']/100)**2\n",
    "selected_columns = ['short_name', 'club', 'main_position', 'overall', 'bmi']\n",
    "print(players[selected_columns].head(5))"
   ]
  },
  {
   "cell_type": "code",
   "execution_count": null,
   "metadata": {},
   "outputs": [],
   "source": [
    "# converting player field stats into int64 type & filling NULL values\n",
    "\n",
    "columns = ['ls','st','rs','lw','lf','cf','rf','rw','lam','cam','ram','lm','lcm','cm','rcm','rm','lwb','ldm', 'cdm','rdm','rwb','lb','lcb','cb','rcb','rb']\n",
    "players[columns].head()"
   ]
  },
  {
   "cell_type": "code",
   "execution_count": null,
   "metadata": {},
   "outputs": [],
   "source": [
    "for col in columns:\n",
    "    players[col] = players[col].str.split('+', n = 1, expand = True)[0]\n",
    "players[columns] = players[columns].fillna(0)\n",
    "players[columns] = players[columns].astype(int)\n",
    "\n",
    "players[columns]"
   ]
  },
  {
   "cell_type": "code",
   "execution_count": null,
   "metadata": {},
   "outputs": [],
   "source": [
    "# function to map object-type column to int64-type column\n",
    "\n",
    "def column_mapping(column_name):\n",
    "    unique_strings = players[column_name].unique()\n",
    "    map = {string: i for i, string in enumerate(unique_strings)}\n",
    "    players[column_name] = players[column_name].map(map)"
   ]
  },
  {
   "cell_type": "code",
   "execution_count": null,
   "metadata": {},
   "outputs": [],
   "source": [
    "#mapping main position of players to an integer\n",
    "\n",
    "unique_values = players['main_position'].unique()\n",
    "for i in range (len(unique_values)):\n",
    "    print (i, '\\t', unique_values[i])\n",
    "column_mapping('main_position')\n",
    "print(players[['short_name', 'main_position']].head())"
   ]
  },
  {
   "cell_type": "code",
   "execution_count": null,
   "metadata": {},
   "outputs": [],
   "source": [
    "# selecting all columns with type as 'object'\n",
    "\n",
    "object_columns = players.select_dtypes(include = ['object']).columns\n",
    "for col in object_columns:\n",
    "    print(col)"
   ]
  },
  {
   "cell_type": "code",
   "execution_count": null,
   "metadata": {},
   "outputs": [],
   "source": [
    "for col in object_columns:\n",
    "    column_mapping(col)\n",
    "print(players[object_columns].head())"
   ]
  },
  {
   "cell_type": "code",
   "execution_count": null,
   "metadata": {},
   "outputs": [],
   "source": [
    "# filling null values in stats\n",
    "\n",
    "columns = ['dribbling', 'defending', 'physic', 'passing', 'shooting', 'pace']\n",
    "players[columns]\n",
    "\n",
    "for col in columns:\n",
    "    players[col] = players[col].fillna(players[col].median())\n",
    "players[columns]"
   ]
  },
  {
   "cell_type": "code",
   "execution_count": null,
   "metadata": {},
   "outputs": [],
   "source": [
    "players = players.fillna(0)\n",
    "players.isnull().sum()"
   ]
  },
  {
   "cell_type": "markdown",
   "metadata": {},
   "source": [
    "EXPLORATORY DATA ANALYTICS"
   ]
  },
  {
   "cell_type": "code",
   "execution_count": null,
   "metadata": {},
   "outputs": [],
   "source": [
    "# To identify the most valuable position\n",
    "\n",
    "players_grouped = players.groupby('main_position')['value_eur'].mean()/1e6\n",
    "players_grouped = players_grouped.sort_values()\n",
    "players_grouped.plot(kind = 'barh', figsize = (12, 8))\n",
    "plt.title(\"Average Player Value in Each Position\")\n",
    "plt.xlabel(\"Average Value, M euro\")\n",
    "plt.show"
   ]
  },
  {
   "cell_type": "code",
   "execution_count": null,
   "metadata": {},
   "outputs": [],
   "source": [
    "# Age Dependence\n",
    "\n",
    "players_grouped_age = players.groupby('age')['value_eur'].mean()/1e6\n",
    "players_grouped_age.plot(grid = True, figsize = (12, 8))\n",
    "plt.ylabel(' Average Value, M Euro ')\n",
    "plt.xlabel('Age')\n",
    "plt.show"
   ]
  },
  {
   "cell_type": "code",
   "execution_count": null,
   "metadata": {},
   "outputs": [],
   "source": [
    "# Top 10 most expensive national teams (grouped by mean of top 25 players)\n",
    "\n",
    "players_country = players.groupby('nationality')['value_eur'].nlargest(25).reset_index(level = 1, drop = True)\n",
    "players_country = players_country.groupby('nationality').mean()/1e6\n",
    "players_country_top10=(players_country.sort_values()).tail(10)\n",
    "players_country_top10.plot(kind='barh',figsize=(12,8))\n",
    "plt.xlabel(\"Average value of TOP25 players, M euro\")\n",
    "plt.show"
   ]
  },
  {
   "cell_type": "code",
   "execution_count": null,
   "metadata": {},
   "outputs": [],
   "source": [
    "# Overall Rating VS Value in Euros\n",
    "\n",
    "import seaborn as sns\n",
    "sns.relplot(x='overall',y='value_eur',hue='age',palette = 'viridis',size=\"bmi\", sizes=(15, 200),aspect=2,data=players)\n",
    "plt.title('Overall Rating vs Value in Euros',fontsize = 20)\n",
    "plt.xlabel('Overall Rating')\n",
    "plt.ylabel('Value in Euros')\n",
    "plt.show()"
   ]
  },
  {
   "cell_type": "code",
   "execution_count": null,
   "metadata": {},
   "outputs": [],
   "source": [
    "# Potential Rating VS Wage in Euros\n",
    "\n",
    "sns.relplot(x='potential',y='wage_eur',hue='age',palette = 'viridis',size=\"bmi\", sizes=(15, 200),aspect=2,data=players)\n",
    "plt.title('Potential Rating vs Wage in Euros',fontsize = 20)\n",
    "plt.xlabel('Potential')\n",
    "plt.ylabel('Wage in Euros')\n",
    "plt.show()"
   ]
  },
  {
   "cell_type": "code",
   "execution_count": null,
   "metadata": {},
   "outputs": [],
   "source": [
    "# Count of Preferred Foot\n",
    "\n",
    "plt.figure(dpi=125)\n",
    "sns.countplot(data = players,x = 'preferred_foot',hue ='preferred_foot',dodge = False, legend = False, palette='Blues')\n",
    "plt.xlabel('Preferred Foot Players')\n",
    "plt.ylabel('Count')\n",
    "plt.title('Count of Preferred Foot')\n",
    "Right,Left= players.preferred_foot.value_counts()\n",
    "print('Left Preferred',Left)\n",
    "print('Right Preferred',Right)\n",
    "plt.show()"
   ]
  },
  {
   "cell_type": "code",
   "execution_count": null,
   "metadata": {},
   "outputs": [],
   "source": [
    "# Count of International Reputation of Top 100 Players\n",
    "\n",
    "plt.figure(dpi=125)\n",
    "sns.countplot(x = 'international_reputation', hue = 'international_reputation',data = players.head(100),palette='Blues', dodge = False, legend = False)\n",
    "plt.xlabel('International Reputation')\n",
    "plt.ylabel('Count')\n",
    "plt.title('Count of International Reputation of Top 100 Players')\n",
    "plt.show()"
   ]
  },
  {
   "cell_type": "code",
   "execution_count": null,
   "metadata": {},
   "outputs": [],
   "source": [
    "# Weight VS Pace\n",
    "\n",
    "plt.figure(figsize=(12,6),dpi=125)\n",
    "x=players['weight_kg']\n",
    "y=players['pace']\n",
    "\n",
    "sns.regplot(x = x,y = y,color='orange')\n",
    "plt.title('Weight vs Pace',fontsize = 20)\n",
    "plt.xlabel('Weight')\n",
    "plt.ylabel('Pace')\n",
    "plt.show()"
   ]
  },
  {
   "cell_type": "code",
   "execution_count": null,
   "metadata": {},
   "outputs": [],
   "source": [
    "# BMI vs Pace\n",
    "\n",
    "plt.figure(figsize=(12,6),dpi=125)\n",
    "x=players['bmi']\n",
    "y=players['pace']\n",
    "\n",
    "sns.regplot(x=x,y=y,color='skyblue')\n",
    "plt.title('BMI vs Pace',fontsize=20)\n",
    "plt.xlabel('BMI')\n",
    "plt.ylabel('Pace')\n",
    "plt.show()"
   ]
  },
  {
   "cell_type": "code",
   "execution_count": null,
   "metadata": {},
   "outputs": [],
   "source": [
    "plt.figure(figsize=(14,7),dpi=150)\n",
    "sns.countplot(hue = 'club', x = 'club',data=players.head(20),palette='CMRmap', legend = False, dodge = False)\n",
    "plt.xlabel('Club')\n",
    "plt.ylabel('Count')\n",
    "plt.xticks(rotation=45)\n",
    "plt.title('Which Club has Max players in Top 20?',fontsize = 20)\n",
    "plt.show()"
   ]
  },
  {
   "cell_type": "code",
   "execution_count": null,
   "metadata": {},
   "outputs": [],
   "source": [
    "plt.hist(players['wage_eur'], bins = 20, edgecolor = 'black')\n",
    "plt.xlabel(\"Player Value Ranges\")\n",
    "plt.ylabel(\"Frequency\")\n",
    "plt.title(\"Histogram of Player Value Ranges\")\n",
    "plt.show"
   ]
  },
  {
   "cell_type": "code",
   "execution_count": null,
   "metadata": {},
   "outputs": [],
   "source": [
    "selected_columns = [\"age\",\"height_cm\", \"weight_kg\", \"overall\", \"potential\", \"value_eur\", \"main_position\",\n",
    "                    \"preferred_foot\", \"international_reputation\",\"weak_foot\",\"skill_moves\",\"release_clause_eur\",\"pace\",\n",
    "                    \"shooting\", \"passing\", \"dribbling\", \"defending\", \"physic\", \"gk_diving\", \"gk_handling\", \"gk_kicking\", \"gk_reflexes\",\n",
    "                    \"gk_speed\", \"gk_positioning\", \"attacking_crossing\", \"attacking_finishing\",\n",
    "                    \"attacking_heading_accuracy\", \"attacking_short_passing\", \"attacking_volleys\",\"skill_dribbling\", \"skill_curve\",\n",
    "                    \"skill_fk_accuracy\", \"skill_long_passing\", \"skill_ball_control\",\"movement_acceleration\",\n",
    "                    \"movement_sprint_speed\", \"movement_agility\", \"movement_reactions\", \"movement_balance\",\n",
    "                    \"power_shot_power\", \"power_jumping\", \"power_stamina\", \"power_strength\", \"power_long_shots\",\n",
    "                    \"mentality_aggression\", \"mentality_interceptions\", \"mentality_positioning\", \"mentality_vision\",\"mentality_penalties\",\n",
    "                    \"mentality_composure\",\"defending_marking\",\"defending_standing_tackle\", \"defending_sliding_tackle\", \"goalkeeping_diving\",\n",
    "                    \"goalkeeping_handling\", \"goalkeeping_kicking\", \"goalkeeping_positioning\", \"goalkeeping_reflexes\" ]\n",
    "players[selected_columns].info()"
   ]
  },
  {
   "cell_type": "markdown",
   "metadata": {},
   "source": [
    "    MACHINE LEARNING MODEL"
   ]
  },
  {
   "cell_type": "code",
   "execution_count": null,
   "metadata": {},
   "outputs": [],
   "source": [
    "from sklearn.model_selection import train_test_split\n",
    "\n",
    "features = ['wage_eur', 'overall', 'release_clause_eur', 'skill_long_passing', 'international_reputation']\n",
    "\n",
    "X = players[features]\n",
    "y = players['value_eur']\n",
    "\n",
    "X = X.dropna()\n",
    "y = y.loc[X.index]\n",
    "\n",
    "X_train, X_test, y_train, y_test = train_test_split(X, y, test_size = 0.2, random_state = 42)\n"
   ]
  },
  {
   "cell_type": "code",
   "execution_count": null,
   "metadata": {},
   "outputs": [],
   "source": [
    "from sklearn.tree import DecisionTreeRegressor\n",
    "\n",
    "model = DecisionTreeRegressor(criterion= \"squared_error\", max_depth=8, min_samples_split = 10, random_state = 42)\n",
    "model.fit(X_train, y_train)\n",
    "\n",
    "y_pred = model.predict(X_test)"
   ]
  },
  {
   "cell_type": "code",
   "execution_count": null,
   "metadata": {},
   "outputs": [],
   "source": [
    "from sklearn.metrics import mean_absolute_error, mean_squared_error, r2_score\n",
    "mae = mean_absolute_error(y_test, y_pred)\n",
    "\n",
    "mse = mean_squared_error(y_test, y_pred)\n",
    "rmse = np.sqrt(mse)\n",
    "\n",
    "r2 = r2_score(y_test, y_pred)\n",
    "\n",
    "print(f'Mean Absolute Error: {mae:.2f}')\n",
    "print(f'Root Mean Squared Error (RMSE): {rmse:.2f}')\n",
    "print(f'R-squared (R²) Score: {r2:.2f}')\n",
    "print(f'Tree Depth: {model.get_depth()}')\n",
    "print(f'Number of Leaves: {model.get_n_leaves()}')"
   ]
  },
  {
   "cell_type": "code",
   "execution_count": null,
   "metadata": {},
   "outputs": [],
   "source": [
    "from sklearn.model_selection import cross_val_score\n",
    "cross_val_score(model, X_test, y_test, cv = 10)"
   ]
  }
 ],
 "metadata": {
  "language_info": {
   "name": "python"
  }
 },
 "nbformat": 4,
 "nbformat_minor": 2
}
